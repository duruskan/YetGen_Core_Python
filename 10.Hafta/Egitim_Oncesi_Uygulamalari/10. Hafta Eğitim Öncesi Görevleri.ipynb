{
 "cells": [
  {
   "attachments": {},
   "cell_type": "markdown",
   "metadata": {},
   "source": [
    "# Problem 1"
   ]
  },
  {
   "cell_type": "code",
   "execution_count": 2,
   "metadata": {},
   "outputs": [
    {
     "name": "stdout",
     "output_type": "stream",
     "text": [
      "[7 1 6 6 6]\n",
      "(5,)\n",
      "[[7]\n",
      " [1]\n",
      " [6]\n",
      " [6]\n",
      " [6]]\n",
      "2\n"
     ]
    }
   ],
   "source": [
    "# 1 - numpy kütüphanesini import edin\n",
    "import numpy as np\n",
    "# 2 - 0 ile 10 arasında 5 sayıdan oluşan matris üretin\n",
    "my_matrix = np.random.randint(0,10,size=5)\n",
    "print(my_matrix)\n",
    "# 3 - matris'in boyutunu öğrenin\n",
    "print(my_matrix.shape)\n",
    "# 4 - matris'i yeniden boyutlandırın\n",
    "new_matrix= my_matrix.reshape(5,1)\n",
    "print(new_matrix)\n",
    "# 5 - matris'in boyut sayısını öğrenin\n",
    "print(new_matrix.ndim)"
   ]
  },
  {
   "attachments": {},
   "cell_type": "markdown",
   "metadata": {},
   "source": [
    "# Problem 2"
   ]
  },
  {
   "cell_type": "code",
   "execution_count": 3,
   "metadata": {},
   "outputs": [
    {
     "name": "stdout",
     "output_type": "stream",
     "text": [
      "[1 3 5 7 9]\n",
      "[1 3] [5 7] [9]\n",
      "[1 3 5 7 9]\n"
     ]
    }
   ],
   "source": [
    "# 1 - 0 ile 10 arasında bulunan tek sayılardan oluşan matris üretin\n",
    "import numpy as np\n",
    "mtrx= np.arange(1,10,2)\n",
    "print(mtrx)\n",
    "# 2 - Oluşturduğunuz matrisi parçalayın\n",
    "a,b,c=np.split(mtrx,[2,4])\n",
    "print(a,b,c)\n",
    "# 3 - Parçalanmış matrisleri birleştirin\n",
    "birlesim= np.concatenate([a,b,c])\n",
    "print(birlesim)"
   ]
  },
  {
   "attachments": {},
   "cell_type": "markdown",
   "metadata": {},
   "source": [
    "# Problem 3"
   ]
  },
  {
   "cell_type": "code",
   "execution_count": 5,
   "metadata": {},
   "outputs": [
    {
     "name": "stdout",
     "output_type": "stream",
     "text": [
      "[53, 5, 11, 55, 51, 81, 87, 37, 77, 7]\n",
      "[53  5 11 55 51 81 87 37 77  7]\n",
      "(10,)\n",
      "1\n"
     ]
    }
   ],
   "source": [
    "# 1 - 5 ile 100 arasında ikişer ikişer atlayarak rastgele 10 sayıdan oluşan matris üretin\n",
    "import random\n",
    "my_list=list(np.arange(5,100,2))\n",
    "my_list\n",
    "random10 = random.sample(my_list,10)\n",
    "print(random10)\n",
    "mtrs10 = np.array(random10)\n",
    "print(mtrs10)\n",
    "# 2 - matris'in özelliklerini inceleyin\n",
    "print(mtrs10.shape)\n",
    "print(mtrs10.ndim)\n"
   ]
  }
 ],
 "metadata": {
  "kernelspec": {
   "display_name": "Python 3",
   "language": "python",
   "name": "python3"
  },
  "language_info": {
   "codemirror_mode": {
    "name": "ipython",
    "version": 3
   },
   "file_extension": ".py",
   "mimetype": "text/x-python",
   "name": "python",
   "nbconvert_exporter": "python",
   "pygments_lexer": "ipython3",
   "version": "3.11.0"
  },
  "orig_nbformat": 4,
  "vscode": {
   "interpreter": {
    "hash": "5026d2d6e7aaaaba093def813beadff083d8733e4a511af01735cbabd156995d"
   }
  }
 },
 "nbformat": 4,
 "nbformat_minor": 2
}
