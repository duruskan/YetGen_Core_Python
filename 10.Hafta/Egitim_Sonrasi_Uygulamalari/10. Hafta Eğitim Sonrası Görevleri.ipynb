{
 "cells": [
  {
   "attachments": {},
   "cell_type": "markdown",
   "metadata": {},
   "source": [
    "# Problem 1 "
   ]
  },
  {
   "cell_type": "code",
   "execution_count": 21,
   "metadata": {},
   "outputs": [
    {
     "name": "stdout",
     "output_type": "stream",
     "text": [
      "[5 4 3 2 1]\n",
      "[1 2 3 4 5]\n"
     ]
    }
   ],
   "source": [
    "# 1 - numpy kütüphanesini import edin\n",
    "import numpy as np\n",
    "\n",
    "# 2 - 5 elemanlı bir numpy array oluşturun\n",
    "array_p1 = np.array([5,4,3,2,1])\n",
    "print(array_p1)\n",
    "# 3 - Oluşturduğunuz arrayi küçükten büyüğe sıralayın.\n",
    "array_p1.sort()\n",
    "print(array_p1)\n"
   ]
  },
  {
   "attachments": {},
   "cell_type": "markdown",
   "metadata": {},
   "source": [
    "# Problem 2"
   ]
  },
  {
   "cell_type": "code",
   "execution_count": 98,
   "metadata": {},
   "outputs": [
    {
     "name": "stdout",
     "output_type": "stream",
     "text": [
      "[10 15 30 45 60]\n",
      "[ 5  6  7  8  9 10 11 12 13 14]\n",
      "[50 55 60 65 70 75 80 85 90 95]\n",
      "[0. 0. 0. 0. 0. 0. 0. 0. 0. 0.]\n",
      "[1. 1. 1. 1. 1. 1. 1. 1. 1. 1.]\n",
      "[  0.  25.  50.  75. 100.]\n",
      "[20 15 14 21 12]\n",
      "[ 0.31076112 -0.68529168  0.70496005 -0.7439041  -0.32778646  0.34898184\n",
      "  0.8098563  -0.70436687 -0.40860073  0.92690435]\n",
      "[[31 22 23 30 30]\n",
      " [22 15 32 32 48]\n",
      " [48 24 49 28 17]]\n",
      "15\n",
      "49\n",
      "30.066666666666666\n",
      "12\n",
      "[10 11 12]\n",
      "[12 11 10]\n",
      "[31 22 23 30 30]\n",
      "32\n",
      "[31 22 48]\n",
      "[[ 961  484  529  900  900]\n",
      " [ 484  225 1024 1024 2304]\n",
      " [2304  576 2401  784  289]]\n",
      "[[ -8  -5 -49   3 -29]\n",
      " [ 28  -5   3  18 -32]\n",
      " [ 40  40  37 -33 -24]]\n",
      "[28 18 40 40]\n"
     ]
    }
   ],
   "source": [
    "# 1- (10,15,30,45,60) değerlerine sahip numpy dizisi oluşturunuz.\n",
    "array_1 = np.array([10,15,30,45,60])\n",
    "print(array_1)\n",
    "# 2- (5-15) arasındaki sayılarla numpy dizisi oluşturunuz.\n",
    "array_2 = np.arange(5,15,1)\n",
    "print(array_2)\n",
    "# 3- (50-100) arasında 5'er 5'er artarak numpy dizisi oluşturunuz.\n",
    "array_3 = np.arange(50,100,5)\n",
    "print(array_3)\n",
    "# 4- 10 elemanlı sıfırlardan oluşan bir dizi oluşturunuz.\n",
    "array_4= np.zeros(10)\n",
    "print(array_4)\n",
    "\n",
    "# 5- 10 elemanlı birlerden oluşan bir dizi oluşturunuz.\n",
    "array_5= np.ones(10)\n",
    "print(array_5)\n",
    "\n",
    "# 6- (0-100) arasında eşit aralıklı 5 sayı üretin.\n",
    "array_6=np.linspace(0,100,5)\n",
    "print(array_6)\n",
    "\n",
    "# 7- (10-30) arasında rastgele 5 tane tamsayı üretin.\n",
    "import random\n",
    "array_7=np.random.randint(10,30,5)\n",
    "print(array_7)\n",
    "\n",
    "# 8- [-1 ile 1] arasında 10 adet sayı üretin.\n",
    "array_8=np.random.uniform(-1,1,10)\n",
    "print(array_8)\n",
    "\n",
    "# 9- (3x5) boyutlarında (10-50) arasında rastgele bir matris oluşturunuz.\n",
    "array_9=np.random.randint(10,50,15)\n",
    "matris_9=array_9.reshape(3,5)\n",
    "print(matris_9)\n",
    "\n",
    "# 10- Üretilen matrisin satır ve sütun sayıları toplamlarını hesaplayınız ?\n",
    "matris_9.shape\n",
    "\n",
    "# 11- Üretilen matrisin en büyük, en küçük ve ortalaması nedir ?\n",
    "print(matris_9.min())\n",
    "print(matris_9.max())\n",
    "print(matris_9.mean())\n",
    "\n",
    "# 12- Üretilen matrisin en büyük değerinin indeksi kaçtır ?\n",
    "print(matris_9.argmax())\n",
    "# 13- (10-20) arasındaki sayıları içeren dizinin ilk 3 elemanını seçiniz.\n",
    "array_10= np.arange(10,20,1)\n",
    "array_f3 = array_10[0:3]\n",
    "print(array_f3)\n",
    "# 14- Üretilen dizinin elemanlarını tersten yazdırın.\n",
    "print(array_f3[len(array_f3)::-1])\n",
    "\n",
    "# 15- Üretilen matrisin ilk satırını seçiniz.\n",
    "print(matris_9[0,:])\n",
    "\n",
    "# 16- Üretilen matrisin 2.satır 3.sütundaki elemanı hangisidir ?\n",
    "print(matris_9[1,2])\n",
    "\n",
    "# 17- Üretilen matrisin tüm satırlardaki ilk elemanı seçiniz.\n",
    "print(matris_9[:,0])\n",
    "\n",
    "# 18- Üretilen matrisin her bir elemanının karesini alınız.\n",
    "print(np.power(matris_9,2))\n",
    "\n",
    "# 19- Üretilen matris elemanlarının hangisi pozitif çift sayıdır ? Aralığı (-50,+50) arasında yapınız.\n",
    "array_9=np.random.randint(-50,50,15)\n",
    "matris_9=array_9.reshape(3,5)\n",
    "print(matris_9)\n",
    "print(matris_9[(matris_9>0) & (matris_9%2==0)])\n",
    "\n"
   ]
  }
 ],
 "metadata": {
  "kernelspec": {
   "display_name": "Python 3",
   "language": "python",
   "name": "python3"
  },
  "language_info": {
   "codemirror_mode": {
    "name": "ipython",
    "version": 3
   },
   "file_extension": ".py",
   "mimetype": "text/x-python",
   "name": "python",
   "nbconvert_exporter": "python",
   "pygments_lexer": "ipython3",
   "version": "3.11.0"
  },
  "orig_nbformat": 4,
  "vscode": {
   "interpreter": {
    "hash": "5026d2d6e7aaaaba093def813beadff083d8733e4a511af01735cbabd156995d"
   }
  }
 },
 "nbformat": 4,
 "nbformat_minor": 2
}
