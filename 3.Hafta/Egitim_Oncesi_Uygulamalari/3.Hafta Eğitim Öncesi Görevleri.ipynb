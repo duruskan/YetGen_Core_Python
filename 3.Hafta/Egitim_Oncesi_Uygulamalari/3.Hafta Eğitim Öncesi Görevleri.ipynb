{
  "cells": [
    {
      "cell_type": "markdown",
      "metadata": {
        "id": "tsD4YVAe_Te2"
      },
      "source": [
        "# Problem 1\n",
        "Bir sayının 7'ye bölünebilir olup olmadığını kontrol etmek \n",
        "için bir program yazın.\n",
        "\n",
        "İpucu: Mod operatörünü (%) kullanabilirsiniz."
      ]
    },
    {
      "cell_type": "code",
      "execution_count": 6,
      "metadata": {
        "id": "NGjvNwKx_Te7"
      },
      "outputs": [
        {
          "name": "stdout",
          "output_type": "stream",
          "text": [
            "5, 7'ye bölünemez\n"
          ]
        }
      ],
      "source": [
        "# 1.Problemin Çözümünü Buraya Yazınız\n",
        "sayi= int(input(\"Bir tam sayı giriniz:\"))\n",
        "if sayi%7 == 0:\n",
        "    print(f\"{sayi}, 7'ye tam bölünebilir.\")\n",
        "else:\n",
        "    print(f\"{sayi}, 7'ye tam bölünemez\")\n"
      ]
    },
    {
      "cell_type": "markdown",
      "metadata": {
        "id": "Kg3qiBAI_Te8"
      },
      "source": [
        "# Problem 2\n",
        "Kullanıcıdan vize ve final notu isteyin. Girilen vize notunun %40’ı ve \n",
        "girilen finalnotunun ise %60’ı alınarak yıl sonu not ortalaması hesaplanacaktır. \n",
        "\n",
        "Bu not ortalaması eğer 85 ve üzeri ise AA, \n",
        "\n",
        "75 ve 85 arasında ise BA, \n",
        "\n",
        "70 ve 75 arasında ise BB, \n",
        "\n",
        "65 ve 70 arasında ise CB,\n",
        "\n",
        "60 ve 65 arasında ise CC,\n",
        "\n",
        "55 ve 60 arasında ise DC,\n",
        "\n",
        "50 ve 55 arasında ise DD olarak hesaplanacaktır. \n",
        "\n",
        "Bu öğrencinin yıl sonu toplam notu 50’nin altında ise FF ile dersten kalacaktır. \n",
        "\n",
        "Ayrıca öğrencinin final notu 50’nin altında ise direkt FF ile kalacaktır."
      ]
    },
    {
      "cell_type": "code",
      "execution_count": 12,
      "metadata": {
        "id": "MXTtCxI1_Te8"
      },
      "outputs": [
        {
          "name": "stdout",
          "output_type": "stream",
          "text": [
            "Notunuz: BB\n"
          ]
        }
      ],
      "source": [
        "# 2.Problemin Çözümünü Buraya Yazınız\n",
        "vize= float(input(\"Vize notunuzu giriniz:\"))\n",
        "final= float(input(\"Final notunuzu giriniz:\"))\n",
        "yil_sonu = vize*0.4 + final*0.6\n",
        "if final < 50:\n",
        "    print(\"Notunuz: FF\")\n",
        "elif yil_sonu < 50:\n",
        "    print(\"Notunuz: FF\")\n",
        "elif 50 <yil_sonu < 55:\n",
        "    print(\"Notunuz: DD\")\n",
        "elif 55 < yil_sonu <60:\n",
        "    print(\"Notunuz: DC\")\n",
        "elif 60 < yil_sonu < 65:\n",
        "    print(\"Notunuz: CC\")\n",
        "elif 65 < yil_sonu < 70:\n",
        "    print(\"Notunuz: CB\")\n",
        "elif 70 < yil_sonu<75:\n",
        "    print(\"Notunuz: BB\")\n",
        "elif 75< yil_sonu<85:\n",
        "    print(\"Notunuz: BA\")\n",
        "elif 85< yil_sonu<100:\n",
        "    print(\"Notunuz: AA\")\n",
        "else:\n",
        "    print(\"Hata.\")\n",
        "\n",
        "\n"
      ]
    },
    {
      "cell_type": "markdown",
      "metadata": {
        "id": "tAoRYCTC_Te8"
      },
      "source": [
        "# Problem 3\n",
        "İki YetGenli Zirve'de karşılaşıyorlar. Birbirlerini tanımak için sorular soruyorlar. Birbirlerine yaşlarını soruyorlar. Akıllarına bir Python programı yazıp, yaşlarını ve isimlerini giriyorlar. Büyük olanın yaşını ekrana yazdıran programı yazıyorlar. Sende bu iki YetGenli'ye destek olmak ister misin?\n",
        "\n",
        "```\n",
        "Birinci YetGenlinin ismi: Ahmet\n",
        "Birinci YetGenlinin yaşı : 20\n",
        "İkinci YetGenlinin ismi: Mehmet\n",
        "İkinci YetGenlinin yaşı : 25\n",
        "Mehmet'in yaşı daha büyük ve yaşı 25'tir.\n",
        "```"
      ]
    },
    {
      "cell_type": "code",
      "execution_count": 13,
      "metadata": {
        "id": "bPjE8W0i_Te8"
      },
      "outputs": [
        {
          "name": "stdout",
          "output_type": "stream",
          "text": [
            "Birinci Yetgenlinin ismi:Ahmet \n",
            "Birinci Yetgenlinin yaşı: 20\n",
            "İkinci Yetgenlinin ismi: Mehmet\n",
            "İkinci Yetgenlinin yaşı: 25\n",
            "Mehmet'in yaşı daha büyüktür ve yaşı 25'tir.\n"
          ]
        }
      ],
      "source": [
        "# 3.Problemin Çözümünü Buraya Yazınız\n",
        "birinci_isim = input(\"İsminiz nedir?\")\n",
        "birinci_yas = int(input(\"Yaşınızı giriniz:\"))\n",
        "ikinci_isim = input(\"İsminiz nedir?\")\n",
        "ikinci_yas = int(input(\"Yaşınızı giriniz:\"))\n",
        "print(f\"Birinci Yetgenlinin ismi:{birinci_isim} \")\n",
        "print(f\"Birinci Yetgenlinin yaşı: {birinci_yas}\")\n",
        "print(f\"İkinci Yetgenlinin ismi: {ikinci_isim}\")\n",
        "print(f\"İkinci Yetgenlinin yaşı: {ikinci_yas}\")\n",
        "if birinci_yas > ikinci_yas:\n",
        "    print(f\"{birinci_isim}'in yaşı daha büyüktür ve yaşı {birinci_yas}'tir.\")\n",
        "else:\n",
        "    print(f\"{ikinci_isim}'in yaşı daha büyüktür ve yaşı {ikinci_yas}'tir.\")"
      ]
    },
    {
      "cell_type": "markdown",
      "metadata": {
        "id": "zBVv8Tyg_Te9"
      },
      "source": [
        "# Problem 4\n",
        "Pandemi döneminde AVM'lerde ateş ölçümü yapılıyor. AVM'ye giren kişinin ateş ölçümü 37.5 derecenin altında ise girişe izin veriliyor. 37.5 derecenin üstünde ise girişe izin verilmiyor. AVM'ye girişe izin verilip verilmediğini ekrana yazdıran bir program yazın.\n",
        "\n",
        "Program sonunda şöyle bir çıktı elde etmelisiniz:\n",
        "\n",
        "```\n",
        "Ateşiniz 37.5 derece. AVM'ye girebilirsin! Maske takmayı unutma!\n",
        "Ateşiniz 37.6 derece. AVM'ye giremezsin! Hemen evine dön!\n",
        "```"
      ]
    },
    {
      "cell_type": "code",
      "execution_count": 17,
      "metadata": {
        "id": "TSAXs8et_Te9"
      },
      "outputs": [
        {
          "name": "stdout",
          "output_type": "stream",
          "text": [
            "Ateşiniz 37.6 derece. AVM'ye giremezsin! Hemen evine dön!\n"
          ]
        }
      ],
      "source": [
        "# 4.Problemin Çözümünü Buraya Yazınız\n",
        "ates = float(input(\"Ateşinizi giriniz:\"))\n",
        "if ates <= 37.5:\n",
        "    print(f\"Ateşiniz {ates} derece. AVM'ye girebilirsin! Maske takmayı unutma!\")\n",
        "elif ates > 37.5:\n",
        "    print(f\"Ateşiniz {ates} derece. AVM'ye giremezsin! Hemen evine dön!\")"
      ]
    },
    {
      "cell_type": "markdown",
      "metadata": {
        "id": "6AEkZrDt_Te9"
      },
      "source": [
        "# Problem 5\n",
        "YetGen bir spor kulübüyle sponsorluk anlaşması yapıyor. Kulüp, sponsorluk anlaşmasına göre her YetGen liderinin beden kitle indeksini hesaplamak istiyor. Spor kulübü, beden kitle indeksini hesaplamak için YetGen Jump Python liderlerinden Berkcan ve Ahmet'i arıyor. Berkcan ve Ahmet, kulübe yardımcı olmak için bir Python programı yazıyorlar. Sende bu iki YetGen liderine destek olmak ister misin?\n",
        "\n",
        "Kullanıcıdan alınan boy ve kilo değerlerine göre beden kitle indeksini hesaplayın ve şu kurallara göre ekrana şu yazıları yazdırın.\n",
        "\n",
        "\n",
        "Beden Kitle İndeksi, kişinin ağırlığının (kg olarak) boyunun karesine (m olarak) bölünmesiyle hesaplanır.\n",
        "\n",
        "\n",
        "```\n",
        " BKİ 18.5'un altındaysa -------> Zayıf\n",
        "\n",
        " BKİ 18.5 ile 25 arasındaysa ------> Normal\n",
        "\n",
        " BKİ 25 ile 30 arasındaysa --------> Fazla Kilolu\n",
        "\n",
        " BKİ 30'un üstündeyse -------------> Obez\n",
        "```\n",
        "\n"
      ]
    },
    {
      "cell_type": "code",
      "execution_count": 22,
      "metadata": {
        "id": "t-XPI_u0_Te-"
      },
      "outputs": [
        {
          "name": "stdout",
          "output_type": "stream",
          "text": [
            "Normal\n"
          ]
        }
      ],
      "source": [
        "# 5.Problemin Çözümünü Buraya Yazınız\n",
        "kilo = float(input(\"Ağırlığınızı kg cinsinden giriniz:\"))\n",
        "boy = float(input(\"Boyunuzu metre cinsinden giriniz:\"))\n",
        "BKI = kilo/(boy**2)\n",
        "if BKI < 18.5:\n",
        "    print(\"Zayıf\")\n",
        "elif 18.5 <BKI < 25:\n",
        "    print(\"Normal\")\n",
        "elif 25< BKI < 30:\n",
        "    print(\"Fazla Kilolu\")\n",
        "elif 30 < BKI:\n",
        "    print(\"Obez\")\n"
      ]
    },
    {
      "cell_type": "markdown",
      "metadata": {
        "id": "oFsvQyaO_Te-"
      },
      "source": [
        "# Problem 6\n",
        "Kullanıcıdan isim, yaş ve eğitim bilgilerini isteyip ehliyet alabilme  durumunu kontrol ediniz. \n",
        "\n",
        "Ehliyet alma koşulu en az 18 yaşında ve eğitim durumu lise ya da üniversite olmalıdır. "
      ]
    },
    {
      "cell_type": "code",
      "execution_count": 28,
      "metadata": {
        "id": "Tu2mcgco_Te-"
      },
      "outputs": [
        {
          "name": "stdout",
          "output_type": "stream",
          "text": [
            "Ehliyet almaya uygun değilsiniz.\n"
          ]
        }
      ],
      "source": [
        "# 6.Problemin Çözümünü Buraya Yazınız\n",
        "isim= input(\"İsminiz nedir?\")\n",
        "yas= int(input(\"Yaşınızı giriniz:\"))\n",
        "egitim= input(\"Eğitim durumunuz nedir?\")\n",
        "if (yas >=18 and egitim ==\"lise\") or (yas >=18 and egitim ==\"üniversite\"):\n",
        "    print(f\"Merhaba {isim}, ehliyet alabilirsin.\")\n",
        "else:\n",
        "    print(f\"Ehliyet almaya uygun değilsiniz.\")\n"
      ]
    },
    {
      "cell_type": "markdown",
      "metadata": {
        "id": "eUkxVSAE_Te_"
      },
      "source": [
        "# Problem 7\n",
        "Bir yılın artık yıl olup olmadığını kontrol etmek için bir program yazın. \n",
        "Artık yıl kuralı:\n",
        "\n",
        "a) Eğer yılın son iki basamağı (00) ile bitmiyor ve yalnızca 4'e tam bölünüyorsa artık yıldır. Ya da, \n",
        "\n",
        "b) Eğer yıl 400'e tam bölünüyorsa artık yıldır.\n",
        "\n",
        "**Örneğin**\n",
        "```\n",
        "2017 artık yıl değildir.\n",
        "1900 artık yıl değildir\n",
        "2012 artık yıldır.\n",
        "2000 artık yıldır.\n",
        "```"
      ]
    },
    {
      "cell_type": "code",
      "execution_count": 13,
      "metadata": {
        "id": "4uWh8qUL_Te_"
      },
      "outputs": [
        {
          "name": "stdout",
          "output_type": "stream",
          "text": [
            "1900 artık yıl değildir.\n"
          ]
        }
      ],
      "source": [
        "# 7.Problemin Çözümünü Buraya Yazınız\n",
        "yil= int(input(\"Bir yıl değeri giriniz:\"))\n",
        "if yil%400==0 or (yil%4==0 and yil%100!=0):\n",
        "    print(f\"{yil} artık yıldır.\")\n",
        "else:\n",
        "    print(f\"{yil} artık yıl değildir.\")\n",
        "    "
      ]
    }
  ],
  "metadata": {
    "colab": {
      "provenance": []
    },
    "kernelspec": {
      "display_name": "Python 3.10.5 64-bit",
      "language": "python",
      "name": "python3"
    },
    "language_info": {
      "codemirror_mode": {
        "name": "ipython",
        "version": 3
      },
      "file_extension": ".py",
      "mimetype": "text/x-python",
      "name": "python",
      "nbconvert_exporter": "python",
      "pygments_lexer": "ipython3",
      "version": "3.11.0"
    },
    "orig_nbformat": 4,
    "vscode": {
      "interpreter": {
        "hash": "5026d2d6e7aaaaba093def813beadff083d8733e4a511af01735cbabd156995d"
      }
    }
  },
  "nbformat": 4,
  "nbformat_minor": 0
}
