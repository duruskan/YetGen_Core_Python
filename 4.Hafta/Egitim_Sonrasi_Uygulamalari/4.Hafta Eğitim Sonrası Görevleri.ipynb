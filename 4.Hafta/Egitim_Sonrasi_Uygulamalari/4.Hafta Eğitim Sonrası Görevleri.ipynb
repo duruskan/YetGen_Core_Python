{
 "cells": [
  {
   "cell_type": "markdown",
   "metadata": {},
   "source": [
    "# Problem 1\n",
    "`ogrenciler` adında bir sözlük oluşturunuz. Kullanıcıdan döngü yardımıyla 3 öğrenci için veri girmesini isteyerek öğrencilerin sırasıyla okul numarası, isim, soy isim, telefon numarası ve doğum tarihi bilgilerini alınız. Aldığınız öğrenci bilgilerini yine aynı döngü yardımıyla `ogrenciler` adındaki sözlükte saklayınız. Daha sonra öğrenci bilgilerinin bulunduğu sözlük yapısını ekrana bastırınız.\n",
    "\n"
   ]
  },
  {
   "cell_type": "code",
   "execution_count": 6,
   "metadata": {},
   "outputs": [
    {
     "name": "stdout",
     "output_type": "stream",
     "text": [
      "{'Mehmet Elma': ['12', '5555555555', '2011'], 'Selim Çelik': ['32', '6', '2004'], 'Mehmet Mehmet': ['11', '5666666666', '2003']}\n"
     ]
    }
   ],
   "source": [
    "# 1.Problemin Çözümünü Buraya Yazınız\n",
    "ogrenciler = {}\n",
    "for i in range(0,3):\n",
    "    numara = input(\"Öğrencinin okul numarasını giriniz:\")\n",
    "    isim = input(\"Öğrencinin ismini giriniz:\")\n",
    "    soy_isim = input(\"Öğrencinin soy ismini giriniz:\")\n",
    "    telefon = input(\"Öğrencinin telefon numarasını giriniz:\")\n",
    "    dogum = input(\"Öğrencinin doğum tarihini giriniz:\")\n",
    "    ogrenciler[f\"{isim} {soy_isim}\"] =[numara, telefon, dogum]\n",
    "print(ogrenciler)\n"
   ]
  },
  {
   "cell_type": "markdown",
   "metadata": {},
   "source": [
    "# Problem 2\n",
    "\n",
    "### a - Biraz ısınarak başlayalım!\n",
    "\n",
    "```\n",
    "numbers = [5,10,10,15,15,15,20,20,20,20]\n",
    "```\n",
    "\n",
    "Yukarıda `numbers` adında 10 elemanlı bir liste verilmiştir. Bu listenin her elemanını kontrol eden ve tekrar eden elemanları bir kez olacak şekilde başka bir listeye kopyalayan bir program yazınız. Son olarak oluşturduğunuz listeyi ekrana bastırınız.\n",
    "\n",
    "\n",
    "\n",
    "\n",
    "```\n",
    ">Output\n",
    "[5, 10, 15, 20]\n",
    "```\n"
   ]
  },
  {
   "cell_type": "code",
   "execution_count": 15,
   "metadata": {},
   "outputs": [
    {
     "name": "stdout",
     "output_type": "stream",
     "text": [
      "[5, 10, 15, 20]\n"
     ]
    }
   ],
   "source": [
    "# 2.Problemin a Şıkkının Çözümünü Buraya Yazınız\n",
    "numbers = [5,10,10,15,15,15,20,20,20,20]\n",
    "output_numbers = []\n",
    "for i in range(0, len(numbers)):\n",
    "    if numbers[i] in output_numbers:\n",
    "        continue\n",
    "    else:\n",
    "        output_numbers.append(numbers[i])\n",
    "print(output_numbers)"
   ]
  },
  {
   "cell_type": "markdown",
   "metadata": {},
   "source": [
    "### 🌶️ b) Hadi işi biraz daha zorlaştıralım! \n",
    "\n",
    "\n",
    "Şimdiyse senden `numbers` isimli listedeki tekrar eden elemanları `repeatNumbers` adındaki listeye; tekrar etmeyen elemanları `uniqueNumbers`adındaki listeye kopyalayan yazmanı ve listeleri ekrana bastırmanı bekliyoruz\n",
    "\n",
    "```\n",
    ">Output\n",
    "Tekrar Eden Elemanlar: [10, 10, 15, 15, 15, 20, 20, 20, 20]\n",
    "Tekrar Etmeyen Elemanlar: [5]\n",
    "```"
   ]
  },
  {
   "cell_type": "code",
   "execution_count": 49,
   "metadata": {},
   "outputs": [
    {
     "name": "stdout",
     "output_type": "stream",
     "text": [
      "[10, 10, 15, 15, 15, 20, 20, 20, 20]\n",
      "[5]\n"
     ]
    }
   ],
   "source": [
    "# 2.Problemin b Şıkkının Çözümünü Buraya Yazınız\n",
    "repeatNumbers = []\n",
    "uniqueNumbers = []\n",
    "numbers = [5,10,10,15,15,15,20,20,20,20]\n",
    "temp_dict= {}\n",
    "\n",
    "for i in range(0,len(numbers)):\n",
    "    if numbers[i] not in  temp_dict:\n",
    "        temp_dict[numbers[i]]= 1\n",
    "    else:\n",
    "        temp_dict[numbers[i]]= temp_dict[numbers[i]] +1\n",
    "\n",
    "for i in range(0,len(numbers)):\n",
    "    if temp_dict[numbers[i]] > 1:\n",
    "        repeatNumbers.append(numbers[i])\n",
    "    else:\n",
    "        uniqueNumbers.append(numbers[i])\n",
    "\n",
    "\n",
    "print(repeatNumbers)\n",
    "print(uniqueNumbers)"
   ]
  },
  {
   "cell_type": "markdown",
   "metadata": {},
   "source": [
    "# Problem 3\n",
    "sn1 = {1,2,3,4,5}\n",
    "\n",
    "sn2 = {4,5,6,7,8}\n",
    "\n",
    " Verilen 2 adet küme için kesişimlerini, farklarını ve birleşimlerini bulunuz. "
   ]
  },
  {
   "cell_type": "code",
   "execution_count": 52,
   "metadata": {},
   "outputs": [
    {
     "name": "stdout",
     "output_type": "stream",
     "text": [
      "{4, 5}\n",
      "{1, 2, 3}\n",
      "{1, 2, 3, 4, 5, 6, 7, 8}\n"
     ]
    }
   ],
   "source": [
    "# 3.Problemin Çözümünü Buraya Yazınız\n",
    "sn1 = {1,2,3,4,5}\n",
    "sn2 = {4,5,6,7,8}\n",
    "print(sn1.intersection(sn2))\n",
    "print(sn1.difference(sn2))\n",
    "print(sn1.union(sn2))"
   ]
  },
  {
   "cell_type": "markdown",
   "metadata": {},
   "source": [
    "# Problem 4\n",
    "\n",
    "Buradaki işlemlerimizin tamamı stringler içindir. Aşağıda verilecek olan metodlar için kendinizin örnek yaratması gerekmektedir. \n",
    "\n",
    "Örneğin `upper` için `string` değişkeni oluştururken` k = \"BAC\"` şeklinde oluşturmayınız. Bunun yerine k değişkenini `k = \"bac`\" şeklinde oluşturmanız `upper` metodundaki değişimi görebilmeniz için daha iyi olacaktır.\n",
    "\n",
    "Bütün metodlardaki değişimin gözle görülür şekilde değişimi beklenmektedir.\n",
    "\n",
    "\n",
    "1- capitalize(), lower(), upper(), swapcase(), title(), replace()\n",
    "\n",
    "2- endswith(), startswith(), find(), index(), count()\n",
    "\n",
    "3- split(), strip(), join(), islower(), isalpha(), isdigit()\n",
    "\n",
    "\n",
    "Yukarıdaki `string` metodlarındaki değişimleri görebildiğimiz bir program yazınız.\n"
   ]
  },
  {
   "cell_type": "code",
   "execution_count": 85,
   "metadata": {},
   "outputs": [
    {
     "name": "stdout",
     "output_type": "stream",
     "text": [
      "Dust in the wind\n",
      "dust in the wind\n",
      "DUST IN THE WIND\n",
      "DUST IN THE WIND\n",
      "Dust In The Wind\n",
      "everything is dust in the wind\n",
      "True\n",
      "True\n",
      "0\n",
      "0\n",
      "2\n",
      "['dust', 'in', 'the', 'wind']\n",
      "dust in the wind\n",
      "dust.in.the.wind\n",
      "True\n",
      "False\n",
      "False\n"
     ]
    }
   ],
   "source": [
    "# 4.Problemin Çözümünü Buraya Yazınız\n",
    "k=\"dust in the wind\"\n",
    "print(k.capitalize())\n",
    "k=\"DUST IN THE WIND\"\n",
    "print(k.lower())\n",
    "k=\"dust in the wind\"\n",
    "print(k.upper())\n",
    "print(k.swapcase())\n",
    "print(k.title())\n",
    "print(k.replace(\"dust\",\"everything is dust\"))\n",
    "print(k.endswith(\"d\"))\n",
    "print(k.startswith(\"d\"))\n",
    "print(k.find(\"d\"))\n",
    "print(k.index(\"d\"))\n",
    "print(k.count(\"d\"))\n",
    "print(k.split())\n",
    "k=\"     dust in the wind\"\n",
    "print(k.strip())\n",
    "k= (\"dust\", \"in\", \"the\",\"wind\")\n",
    "print(\".\".join(k))\n",
    "k=\"dust in the wind\"\n",
    "print(k.islower())\n",
    "print(k.isalpha())\n",
    "print(k.isdigit())\n",
    "\n",
    "\n"
   ]
  }
 ],
 "metadata": {
  "kernelspec": {
   "display_name": "Python 3.10.5 64-bit",
   "language": "python",
   "name": "python3"
  },
  "language_info": {
   "codemirror_mode": {
    "name": "ipython",
    "version": 3
   },
   "file_extension": ".py",
   "mimetype": "text/x-python",
   "name": "python",
   "nbconvert_exporter": "python",
   "pygments_lexer": "ipython3",
   "version": "3.11.0"
  },
  "orig_nbformat": 4,
  "vscode": {
   "interpreter": {
    "hash": "5026d2d6e7aaaaba093def813beadff083d8733e4a511af01735cbabd156995d"
   }
  }
 },
 "nbformat": 4,
 "nbformat_minor": 2
}
